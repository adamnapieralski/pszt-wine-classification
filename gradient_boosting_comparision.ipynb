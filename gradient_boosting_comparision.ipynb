{
 "cells": [
  {
   "cell_type": "markdown",
   "metadata": {},
   "source": [
    "# gboost.GradientBoostingClassifier and sklearn.ensemble.GradientBoostingClassifier comparision"
   ]
  },
  {
   "cell_type": "code",
   "execution_count": 1,
   "metadata": {},
   "outputs": [],
   "source": [
    "import pandas as pd\n",
    "import numpy as np\n",
    "from sklearn.model_selection import train_test_split\n",
    "from sklearn.ensemble import GradientBoostingClassifier\n",
    "import gboost\n",
    "import time"
   ]
  },
  {
   "cell_type": "markdown",
   "metadata": {},
   "source": [
    "## Helper functions"
   ]
  },
  {
   "cell_type": "code",
   "execution_count": 2,
   "metadata": {},
   "outputs": [],
   "source": [
    "def compare(y1, y2, tolerance=0):\n",
    "    score = 0\n",
    "    for i in range(y1.shape[0]):\n",
    "        if abs(round(y1[i]) - y2[i]) <= tolerance:\n",
    "            score += 1        \n",
    "    return score / y1.shape[0]"
   ]
  },
  {
   "cell_type": "code",
   "execution_count": 3,
   "metadata": {},
   "outputs": [],
   "source": [
    "def load_data(test_size=0.3, wine_type='all', verbosity=0):\n",
    "    \"\"\"\n",
    "    params:\n",
    "    test_size: for train test spli\n",
    "    wine_type: all / white / red\n",
    "    verbosity\n",
    "    \"\"\"\n",
    "    \n",
    "    if wine_type in ['all', 'white']:\n",
    "        data_white = pd.read_csv(\"data/winequality-white.csv\", delimiter=';')\n",
    "        \n",
    "    if wine_type in ['all', 'red']:\n",
    "        data_red = pd.read_csv(\"data/winequality-red.csv\", delimiter=';')                        \n",
    "        \n",
    "    if wine_type == 'all':\n",
    "        data_white.insert(0, 'color', 0)\n",
    "        data_red.insert(0, 'color', 1)  \n",
    "        \n",
    "    if wine_type == 'all':\n",
    "        X_all = data_white.append(data_red)\n",
    "    elif wine_type == 'white':\n",
    "        X_all = data_white\n",
    "    elif wine_type == 'red':\n",
    "        X_all = data_red\n",
    "    else:\n",
    "        raise('Wring wine_type. Possible types: all, white, red.')                 \n",
    "        \n",
    "    y_all = X_all[\"quality\"]\n",
    "    X_all.drop(labels=\"quality\", axis=1, inplace=True)\n",
    "\n",
    "    if verbosity > 0:        \n",
    "        \n",
    "        print('Wine data size:', X_all.shape)\n",
    "        print('Wine data columns:', X_all.columns.values)        \n",
    "        print(\"Qualities occurencies:\")\n",
    "        print(y_all.value_counts())\n",
    "\n",
    "    return train_test_split(X_all, y_all, test_size=test_size)    "
   ]
  },
  {
   "cell_type": "markdown",
   "metadata": {},
   "source": [
    "## Parameters"
   ]
  },
  {
   "cell_type": "code",
   "execution_count": 4,
   "metadata": {},
   "outputs": [],
   "source": [
    "n_estimators = 40\n",
    "learning_rate = 0.05\n",
    "max_depth = 6"
   ]
  },
  {
   "cell_type": "markdown",
   "metadata": {},
   "source": [
    "## Comparision"
   ]
  },
  {
   "cell_type": "code",
   "execution_count": 5,
   "metadata": {},
   "outputs": [
    {
     "name": "stdout",
     "output_type": "stream",
     "text": [
      "Wine data size: (6497, 12)\n",
      "Wine data columns: ['color' 'fixed acidity' 'volatile acidity' 'citric acid' 'residual sugar'\n",
      " 'chlorides' 'free sulfur dioxide' 'total sulfur dioxide' 'density' 'pH'\n",
      " 'sulphates' 'alcohol']\n",
      "Qualities occurencies:\n",
      "6    2836\n",
      "5    2138\n",
      "7    1079\n",
      "4     216\n",
      "8     193\n",
      "3      30\n",
      "9       5\n",
      "Name: quality, dtype: int64\n"
     ]
    }
   ],
   "source": [
    "X_train, X_test, y_train, y_test = load_data(test_size=0.3, wine_type='all', verbosity=1)"
   ]
  },
  {
   "cell_type": "code",
   "execution_count": 6,
   "metadata": {},
   "outputs": [
    {
     "name": "stdout",
     "output_type": "stream",
     "text": [
      "Sklearn time: 6.45 seconds\n"
     ]
    }
   ],
   "source": [
    "start_time = time.time()\n",
    "gb_sklear = GradientBoostingClassifier(n_estimators=n_estimators, learning_rate=learning_rate, max_depth=max_depth)\n",
    "gb_sklear.fit(X_train, y_train)\n",
    "y_sklearn = gb_sklear.predict(X_test)\n",
    "print('Sklearn time: {:.2f} seconds'.format(time.time() - start_time))"
   ]
  },
  {
   "cell_type": "code",
   "execution_count": 7,
   "metadata": {},
   "outputs": [
    {
     "name": "stdout",
     "output_type": "stream",
     "text": [
      "gboost time: 302.28 seconds\n"
     ]
    }
   ],
   "source": [
    "start_time = time.time()\n",
    "gb_gboost = gboost.GradientBoostingClassifier(n_estimators=n_estimators, learning_rate=learning_rate, max_depth=max_depth, verbosity=0)\n",
    "gb_gboost.fit(np.array(X_train), np.array(y_train))\n",
    "y_gboost = gb_gboost.predict(np.array(X_test))\n",
    "print('gboost time: {:.2f} seconds'.format(time.time() - start_time))"
   ]
  },
  {
   "cell_type": "code",
   "execution_count": 8,
   "metadata": {},
   "outputs": [
    {
     "name": "stdout",
     "output_type": "stream",
     "text": [
      "Sklearn accuracy: 61.85 %\n",
      "gboost accuracy: 49.74 %\n"
     ]
    }
   ],
   "source": [
    "print('Sklearn accuracy: {:.2f} %'.format(compare(y_sklearn, np.array(y_test))*100))\n",
    "print('gboost accuracy: {:.2f} %'.format(compare(y_gboost, np.array(y_test))*100))"
   ]
  },
  {
   "cell_type": "code",
   "execution_count": 9,
   "metadata": {},
   "outputs": [
    {
     "name": "stdout",
     "output_type": "stream",
     "text": [
      "Sklearn accuracy with tolerance of 1: 95.54 %\n",
      "gboost accuracy with tolerance of 1: 93.03 %\n"
     ]
    }
   ],
   "source": [
    "print('Sklearn accuracy with tolerance of 1: {:.2f} %'.format(compare(y_sklearn, np.array(y_test), 1)*100))\n",
    "print('gboost accuracy with tolerance of 1: {:.2f} %'.format(compare(y_gboost, np.array(y_test), 1)*100))"
   ]
  },
  {
   "cell_type": "code",
   "execution_count": null,
   "metadata": {},
   "outputs": [],
   "source": []
  }
 ],
 "metadata": {
  "kernelspec": {
   "display_name": "Python 3",
   "language": "python",
   "name": "python3"
  },
  "language_info": {
   "codemirror_mode": {
    "name": "ipython",
    "version": 3
   },
   "file_extension": ".py",
   "mimetype": "text/x-python",
   "name": "python",
   "nbconvert_exporter": "python",
   "pygments_lexer": "ipython3",
   "version": "3.6.10"
  }
 },
 "nbformat": 4,
 "nbformat_minor": 4
}
