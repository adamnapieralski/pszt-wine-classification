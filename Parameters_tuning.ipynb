{
 "cells": [
  {
   "cell_type": "code",
   "execution_count": 1,
   "metadata": {},
   "outputs": [],
   "source": [
    "import pandas as pd\n",
    "import numpy as np\n",
    "from sklearn.model_selection import train_test_split, GridSearchCV\n",
    "\n",
    "import gboost\n",
    "import utilities as utils"
   ]
  },
  {
   "cell_type": "code",
   "execution_count": 2,
   "metadata": {},
   "outputs": [],
   "source": [
    "data_white = pd.read_csv(\"data/winequality-white.csv\", delimiter=';')\n",
    "data_white.insert(0, 'color', 0)\n",
    "data_red = pd.read_csv(\"data/winequality-red.csv\", delimiter=';')\n",
    "data_red.insert(0, 'color', 1)\n",
    "\n",
    "X_all = data_white.append(data_red)\n",
    "y_all = X_all[\"quality\"]\n",
    "X_all.drop(labels=\"quality\", axis=1, inplace=True)\n",
    "\n",
    "state = 2\n",
    "test_size = 0.3\n",
    "X_train, X_test, y_train, y_test = train_test_split(X_all, y_all, test_size=test_size, random_state=state)"
   ]
  },
  {
   "cell_type": "code",
   "execution_count": null,
   "metadata": {},
   "outputs": [
    {
     "name": "stdout",
     "output_type": "stream",
     "text": [
      "[20, 40, 50, 60, 80, 100] [0.05, 0.1, 0.15, 0.2] [4, 5, 6]\n",
      "20 0.05 4 0.4475610198382476\n",
      "20 0.05 5 0.47151295349315153\n",
      "20 0.05 6 0.4816467800626216\n",
      "20 0.1 4 0.46822036049758825\n",
      "20 0.1 5 0.45984767707539986\n",
      "20 0.1 6 0.4930753514911931\n",
      "20 0.15 4 0.468000338495388\n",
      "20 0.15 5 0.45852778684461853\n",
      "20 0.15 6 0.48449449340538453\n",
      "20 0.2 4 0.468000338495388\n",
      "20 0.2 5 0.4541273468006141\n",
      "20 0.2 6 0.4820757020757021\n",
      "40 0.05 4 0.46822036049758825\n",
      "40 0.05 5 0.45984767707539986\n",
      "40 0.05 6 0.4928555712714129\n",
      "40 0.1 4 0.468000338495388\n",
      "40 0.1 5 0.45874756706439873\n",
      "40 0.1 6 0.48163735054824164\n",
      "40 0.15 4 0.468000338495388\n",
      "40 0.15 5 0.45632998464681634\n",
      "40 0.15 6 0.4822964494251623\n",
      "40 0.2 4 0.468000338495388\n",
      "40 0.2 5 0.45061086328413064\n",
      "40 0.2 6 0.480976800976801\n",
      "50 0.05 4 0.468000338495388\n",
      "50 0.05 5 0.45984767707539986\n",
      "50 0.05 6 0.48515407584714515\n",
      "50 0.1 4 0.468000338495388\n",
      "50 0.1 5 0.45874756706439873\n",
      "50 0.1 6 0.4818571307680219\n",
      "50 0.15 4 0.468000338495388\n",
      "50 0.15 5 0.4561102044270361\n",
      "50 0.15 6 0.4822964494251623\n",
      "50 0.2 4 0.468000338495388\n",
      "50 0.2 5 0.4501713028445702\n",
      "50 0.2 6 0.480976800976801\n",
      "60 0.05 4 0.468000338495388\n",
      "60 0.05 5 0.45874756706439873\n",
      "60 0.05 6 0.4827364934295627\n",
      "60 0.1 4 0.468000338495388\n",
      "60 0.1 5 0.45654976486659654\n",
      "60 0.1 6 0.4803186692295603\n",
      "60 0.15 4 0.468000338495388\n",
      "60 0.15 5 0.45457174288857455\n",
      "60 0.15 6 0.4822964494251623\n",
      "60 0.2 4 0.468000338495388\n",
      "60 0.2 5 0.4501713028445702\n",
      "60 0.2 6 0.480976800976801\n",
      "80 0.05 4 0.468000338495388\n",
      "80 0.05 5 0.45874756706439873\n",
      "80 0.05 6 0.4818571307680219\n",
      "80 0.1 4 0.468000338495388\n",
      "80 0.1 5 0.45523108354791525\n",
      "80 0.1 6 0.4803186692295603\n"
     ]
    }
   ],
   "source": [
    "# n_estimators = list(np.linspace(50, 150, 3, dtype=np.int)) #8\n",
    "# learning_rates = list(np.linspace(0.05, 0.6, 12)) #16\n",
    "n_estimators = [20, 40, 50, 60, 80, 100]\n",
    "learning_rates = [0.05, 0.1, 0.15, 0.2]\n",
    "max_depths = [4, 5, 6]\n",
    "# max_depths = list(np.linspace(4, 6, 5, dtype=np.int)) #4\n",
    "print(n_estimators, learning_rates, max_depths)\n",
    "\n",
    "random_seed = 7\n",
    "k = 5\n",
    "\n",
    "scores_3d = []\n",
    "for n_est in n_estimators:\n",
    "    scores_2d = []\n",
    "    for lr in learning_rates:\n",
    "        scores_1d = []\n",
    "        for md in max_depths:\n",
    "            gb = gboost.GradientBoostingClassifier(lr, n_est, md)\n",
    "            _, score_mean, _ = utils.kfold(gb, X_train, y_train, k, random_seed)\n",
    "            scores_1d.append(score_mean)\n",
    "            print(n_est, lr, md, score_mean)\n",
    "        scores_2d.append(scores_1d)\n",
    "    scores_3d.append(scores_2d)\n",
    "\n",
    "np.save(\"scores_params\", scores_3d)\n",
    "            "
   ]
  },
  {
   "cell_type": "code",
   "execution_count": null,
   "metadata": {},
   "outputs": [],
   "source": [
    "sc = np.load(\"scores_params.npy\")\n",
    "print(sc)"
   ]
  },
  {
   "cell_type": "code",
   "execution_count": null,
   "metadata": {},
   "outputs": [],
   "source": [
    "np.where(sc == np.amax(sc))"
   ]
  }
 ],
 "metadata": {
  "kernelspec": {
   "display_name": "Python 3",
   "language": "python",
   "name": "python3"
  },
  "language_info": {
   "codemirror_mode": {
    "name": "ipython",
    "version": 3
   },
   "file_extension": ".py",
   "mimetype": "text/x-python",
   "name": "python",
   "nbconvert_exporter": "python",
   "pygments_lexer": "ipython3",
   "version": "3.6.10"
  }
 },
 "nbformat": 4,
 "nbformat_minor": 4
}
