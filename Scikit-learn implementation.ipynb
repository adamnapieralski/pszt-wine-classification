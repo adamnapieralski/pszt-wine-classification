{
 "cells": [
  {
   "cell_type": "code",
   "execution_count": 1,
   "metadata": {},
   "outputs": [],
   "source": [
    "import pandas as pd\n",
    "import numpy as np\n",
    "from sklearn.preprocessing import MinMaxScaler\n",
    "from sklearn.model_selection import train_test_split\n",
    "from sklearn.metrics import classification_report, confusion_matrix\n",
    "from sklearn.ensemble import GradientBoostingClassifier\n",
    "\n",
    "import gradientboosting as gb"
   ]
  },
  {
   "cell_type": "code",
   "execution_count": 2,
   "metadata": {},
   "outputs": [
    {
     "name": "stdout",
     "output_type": "stream",
     "text": [
      "Qualities occurencies\n",
      "6    2836\n",
      "5    2138\n",
      "7    1079\n",
      "4     216\n",
      "8     193\n",
      "3      30\n",
      "9       5\n",
      "Name: quality, dtype: int64\n"
     ]
    }
   ],
   "source": [
    "data_white = pd.read_csv(\"data/winequality-white.csv\", delimiter=';')\n",
    "data_white.insert(0, 'color', 0)\n",
    "data_red = pd.read_csv(\"data/winequality-red.csv\", delimiter=';')\n",
    "data_red.insert(0, 'color', 1)\n",
    "\n",
    "X_all = data_white.append(data_red)\n",
    "y_all = X_all[\"quality\"]\n",
    "X_all.drop(labels=\"quality\", axis=1, inplace=True)\n",
    "\n",
    "print(\"Qualities occurencies\")\n",
    "print(y_all.value_counts())\n",
    "\n",
    "state = 2\n",
    "test_size = 0.3\n",
    "X_train, X_test, y_train, y_test = train_test_split(X_all, y_all, test_size=test_size, random_state=state)\n",
    "\n",
    "# gb_clf = GradientBoostingClassifier(n_estimators=100, learning_rate=0.47, max_depth=3, random_state=0)\n",
    "# gb_clf.fit(X_train, y_train)\n",
    "\n",
    "# print(\"Accuracy score (training): {0:.3f}\".format(gb_clf.score(X_train, y_train)))\n",
    "# print(\"Accuracy score (validation): {0:.3f}\".format(gb_clf.score(X_test, y_test)))"
   ]
  },
  {
   "cell_type": "code",
   "execution_count": 3,
   "metadata": {},
   "outputs": [],
   "source": [
    "# X_train"
   ]
  },
  {
   "cell_type": "code",
   "execution_count": 4,
   "metadata": {},
   "outputs": [],
   "source": [
    "# X_test"
   ]
  },
  {
   "cell_type": "code",
   "execution_count": 9,
   "metadata": {},
   "outputs": [],
   "source": [
    "grad = gb.GradientBoostingClassifier()"
   ]
  },
  {
   "cell_type": "code",
   "execution_count": 10,
   "metadata": {},
   "outputs": [
    {
     "data": {
      "text/plain": [
       "array([2, 2, 2, 2, 2, 2, 2, 2])"
      ]
     },
     "execution_count": 10,
     "metadata": {},
     "output_type": "execute_result"
    }
   ],
   "source": [
    "grad.initialize_with_const(y)"
   ]
  },
  {
   "cell_type": "code",
   "execution_count": null,
   "metadata": {},
   "outputs": [],
   "source": []
  }
 ],
 "metadata": {
  "kernelspec": {
   "display_name": "Python 3",
   "language": "python",
   "name": "python3"
  },
  "language_info": {
   "codemirror_mode": {
    "name": "ipython",
    "version": 3
   },
   "file_extension": ".py",
   "mimetype": "text/x-python",
   "name": "python",
   "nbconvert_exporter": "python",
   "pygments_lexer": "ipython3",
   "version": "3.6.10"
  }
 },
 "nbformat": 4,
 "nbformat_minor": 4
}
