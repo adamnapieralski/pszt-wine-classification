{
 "cells": [
  {
   "cell_type": "code",
   "execution_count": 1,
   "metadata": {},
   "outputs": [],
   "source": [
    "import pandas as pd\n",
    "import numpy as np\n",
    "from sklearn.preprocessing import MinMaxScaler\n",
    "from sklearn.model_selection import train_test_split\n",
    "from sklearn.metrics import classification_report, confusion_matrix\n",
    "from sklearn.ensemble import GradientBoostingClassifier\n",
    "\n",
    "import gradientboosting as gb"
   ]
  },
  {
   "cell_type": "code",
   "execution_count": 2,
   "metadata": {},
   "outputs": [
    {
     "name": "stdout",
     "output_type": "stream",
     "text": [
      "Qualities occurencies\n",
      "6    2836\n",
      "5    2138\n",
      "7    1079\n",
      "4     216\n",
      "8     193\n",
      "3      30\n",
      "9       5\n",
      "Name: quality, dtype: int64\n"
     ]
    }
   ],
   "source": [
    "data_white = pd.read_csv(\"data/winequality-white.csv\", delimiter=';')\n",
    "data_white.insert(0, 'color', 0)\n",
    "data_red = pd.read_csv(\"data/winequality-red.csv\", delimiter=';')\n",
    "data_red.insert(0, 'color', 1)\n",
    "\n",
    "X_all = data_white.append(data_red)\n",
    "y_all = X_all[\"quality\"]\n",
    "X_all.drop(labels=\"quality\", axis=1, inplace=True)\n",
    "\n",
    "print(\"Qualities occurencies\")\n",
    "print(y_all.value_counts())\n",
    "\n",
    "state = 2\n",
    "test_size = 0.3\n",
    "X_train, X_test, y_train, y_test = train_test_split(X_all, y_all, test_size=test_size, random_state=state)\n",
    "\n",
    "# gb_clf = GradientBoostingClassifier(n_estimators=100, learning_rate=0.47, max_depth=3, random_state=0)\n",
    "# gb_clf.fit(X_train, y_train)\n",
    "\n",
    "# print(\"Accuracy score (training): {0:.3f}\".format(gb_clf.score(X_train, y_train)))\n",
    "# print(\"Accuracy score (validation): {0:.3f}\".format(gb_clf.score(X_test, y_test)))"
   ]
  },
  {
   "cell_type": "code",
   "execution_count": 3,
   "metadata": {},
   "outputs": [],
   "source": [
    "# X_train"
   ]
  },
  {
   "cell_type": "code",
   "execution_count": 4,
   "metadata": {},
   "outputs": [],
   "source": [
    "# X_test"
   ]
  },
  {
   "cell_type": "code",
   "execution_count": 10,
   "metadata": {},
   "outputs": [],
   "source": [
    "grad = gb.GradientBoostingClassifier(n_estimators=30, verbosity=1)"
   ]
  },
  {
   "cell_type": "code",
   "execution_count": 12,
   "metadata": {},
   "outputs": [
    {
     "name": "stdout",
     "output_type": "stream",
     "text": [
      "Initialized y const value: 1\n",
      "Step: 0\n",
      " Residuals: [0. 0. 0. 0. 2. 2. 2.]\n",
      " Predictions: [1.  1.  1.  1.  1.2 1.2 1.2]\n",
      "Step: 1\n",
      " Residuals: [0.  0.  0.  0.  1.6 1.6 1.6]\n",
      " Predictions: [1.   1.   1.   1.   1.36 1.36 1.36]\n",
      "Step: 2\n",
      " Residuals: [0.   0.   0.   0.   1.28 1.28 1.28]\n",
      " Predictions: [1.    1.    1.    1.    1.488 1.488 1.488]\n",
      "Step: 3\n",
      " Residuals: [0.    0.    0.    0.    1.024 1.024 1.024]\n",
      " Predictions: [1.     1.     1.     1.     1.5904 1.5904 1.5904]\n",
      "Step: 4\n",
      " Residuals: [0.     0.     0.     0.     0.8192 0.8192 0.8192]\n",
      " Predictions: [1.      1.      1.      1.      1.67232 1.67232 1.67232]\n",
      "Step: 5\n",
      " Residuals: [0.      0.      0.      0.      0.65536 0.65536 0.65536]\n",
      " Predictions: [1.       1.       1.       1.       1.737856 1.737856 1.737856]\n",
      "Step: 6\n",
      " Residuals: [0.       0.       0.       0.       0.524288 0.524288 0.524288]\n",
      " Predictions: [1.        1.        1.        1.        1.7902848 1.7902848 1.7902848]\n",
      "Step: 7\n",
      " Residuals: [0.        0.        0.        0.        0.4194304 0.4194304 0.4194304]\n",
      " Predictions: [1.         1.         1.         1.         1.83222784 1.83222784\n",
      " 1.83222784]\n",
      "Step: 8\n",
      " Residuals: [0.         0.         0.         0.         0.33554432 0.33554432\n",
      " 0.33554432]\n",
      " Predictions: [1.         1.         1.         1.         1.86578227 1.86578227\n",
      " 1.86578227]\n",
      "Step: 9\n",
      " Residuals: [0.         0.         0.         0.         0.26843546 0.26843546\n",
      " 0.26843546]\n",
      " Predictions: [1.         1.         1.         1.         1.89262582 1.89262582\n",
      " 1.89262582]\n",
      "Step: 10\n",
      " Residuals: [0.         0.         0.         0.         0.21474836 0.21474836\n",
      " 0.21474836]\n",
      " Predictions: [1.         1.         1.         1.         1.91410065 1.91410065\n",
      " 1.91410065]\n",
      "Step: 11\n",
      " Residuals: [0.         0.         0.         0.         0.17179869 0.17179869\n",
      " 0.17179869]\n",
      " Predictions: [1.         1.         1.         1.         1.93128052 1.93128052\n",
      " 1.93128052]\n",
      "Step: 12\n",
      " Residuals: [0.         0.         0.         0.         0.13743895 0.13743895\n",
      " 0.13743895]\n",
      " Predictions: [1.         1.         1.         1.         1.94502442 1.94502442\n",
      " 1.94502442]\n",
      "Step: 13\n",
      " Residuals: [0.         0.         0.         0.         0.10995116 0.10995116\n",
      " 0.10995116]\n",
      " Predictions: [1.         1.         1.         1.         1.95601953 1.95601953\n",
      " 1.95601953]\n",
      "Step: 14\n",
      " Residuals: [0.         0.         0.         0.         0.08796093 0.08796093\n",
      " 0.08796093]\n",
      " Predictions: [1.         1.         1.         1.         1.96481563 1.96481563\n",
      " 1.96481563]\n",
      "Step: 15\n",
      " Residuals: [0.         0.         0.         0.         0.07036874 0.07036874\n",
      " 0.07036874]\n",
      " Predictions: [1.        1.        1.        1.        1.9718525 1.9718525 1.9718525]\n",
      "Step: 16\n",
      " Residuals: [0.       0.       0.       0.       0.056295 0.056295 0.056295]\n",
      " Predictions: [1.       1.       1.       1.       1.977482 1.977482 1.977482]\n",
      "Step: 17\n",
      " Residuals: [0.       0.       0.       0.       0.045036 0.045036 0.045036]\n",
      " Predictions: [1.        1.        1.        1.        1.9819856 1.9819856 1.9819856]\n",
      "Step: 18\n",
      " Residuals: [0.        0.        0.        0.        0.0360288 0.0360288 0.0360288]\n",
      " Predictions: [1.         1.         1.         1.         1.98558848 1.98558848\n",
      " 1.98558848]\n",
      "Step: 19\n",
      " Residuals: [0.         0.         0.         0.         0.02882304 0.02882304\n",
      " 0.02882304]\n",
      " Predictions: [1.         1.         1.         1.         1.98847078 1.98847078\n",
      " 1.98847078]\n",
      "Step: 20\n",
      " Residuals: [0.         0.         0.         0.         0.02305843 0.02305843\n",
      " 0.02305843]\n",
      " Predictions: [1.         1.         1.         1.         1.99077663 1.99077663\n",
      " 1.99077663]\n",
      "Step: 21\n",
      " Residuals: [0.         0.         0.         0.         0.01844674 0.01844674\n",
      " 0.01844674]\n",
      " Predictions: [1.        1.        1.        1.        1.9926213 1.9926213 1.9926213]\n",
      "Step: 22\n",
      " Residuals: [0.        0.        0.        0.        0.0147574 0.0147574 0.0147574]\n",
      " Predictions: [1.         1.         1.         1.         1.99409704 1.99409704\n",
      " 1.99409704]\n",
      "Step: 23\n",
      " Residuals: [0.         0.         0.         0.         0.01180592 0.01180592\n",
      " 0.01180592]\n",
      " Predictions: [1.         1.         1.         1.         1.99527763 1.99527763\n",
      " 1.99527763]\n",
      "Step: 24\n",
      " Residuals: [0.         0.         0.         0.         0.00944473 0.00944473\n",
      " 0.00944473]\n",
      " Predictions: [1.         1.         1.         1.         1.99622211 1.99622211\n",
      " 1.99622211]\n",
      "Step: 25\n",
      " Residuals: [0.         0.         0.         0.         0.00755579 0.00755579\n",
      " 0.00755579]\n",
      " Predictions: [1.         1.         1.         1.         1.99697769 1.99697769\n",
      " 1.99697769]\n",
      "Step: 26\n",
      " Residuals: [0.         0.         0.         0.         0.00604463 0.00604463\n",
      " 0.00604463]\n",
      " Predictions: [1.         1.         1.         1.         1.99758215 1.99758215\n",
      " 1.99758215]\n",
      "Step: 27\n",
      " Residuals: [0.        0.        0.        0.        0.0048357 0.0048357 0.0048357]\n",
      " Predictions: [1.         1.         1.         1.         1.99806572 1.99806572\n",
      " 1.99806572]\n",
      "Step: 28\n",
      " Residuals: [0.         0.         0.         0.         0.00386856 0.00386856\n",
      " 0.00386856]\n",
      " Predictions: [1.         1.         1.         1.         1.99845257 1.99845257\n",
      " 1.99845257]\n",
      "Step: 29\n",
      " Residuals: [0.         0.         0.         0.         0.00309485 0.00309485\n",
      " 0.00309485]\n",
      " Predictions: [1.         1.         1.         1.         1.99876206 1.99876206\n",
      " 1.99876206]\n"
     ]
    }
   ],
   "source": [
    "X = np.array([[0., 0.], [1., 0.], [0.5, 0.5], [-0.25, 0.25], [2., 2.], [2.25, 1.75], [2.5, 2.]])\n",
    "y = np.array([1, 1, 1, 1, 2, 2, 2])\n",
    "grad.fit(X, y)"
   ]
  },
  {
   "cell_type": "code",
   "execution_count": 7,
   "metadata": {},
   "outputs": [
    {
     "data": {
      "text/plain": [
       "array([1.11263417e-04, 1.11263417e-04, 1.11263417e-04, 1.11263417e-04,\n",
       "       9.99851649e-01, 9.99851649e-01, 9.99851649e-01])"
      ]
     },
     "execution_count": 7,
     "metadata": {},
     "output_type": "execute_result"
    }
   ],
   "source": [
    "grad.predict(X)"
   ]
  },
  {
   "cell_type": "code",
   "execution_count": null,
   "metadata": {},
   "outputs": [],
   "source": []
  }
 ],
 "metadata": {
  "kernelspec": {
   "display_name": "Python 3",
   "language": "python",
   "name": "python3"
  },
  "language_info": {
   "codemirror_mode": {
    "name": "ipython",
    "version": 3
   },
   "file_extension": ".py",
   "mimetype": "text/x-python",
   "name": "python",
   "nbconvert_exporter": "python",
   "pygments_lexer": "ipython3",
   "version": "3.6.10"
  }
 },
 "nbformat": 4,
 "nbformat_minor": 4
}
