{
 "cells": [
  {
   "cell_type": "code",
   "execution_count": 1,
   "metadata": {},
   "outputs": [],
   "source": [
    "import pandas as pd\n",
    "import numpy as np\n",
    "from sklearn.preprocessing import MinMaxScaler\n",
    "from sklearn.model_selection import train_test_split\n",
    "from sklearn.metrics import classification_report, confusion_matrix\n",
    "from sklearn.ensemble import GradientBoostingClassifier\n",
    "\n",
    "import gboost"
   ]
  },
  {
   "cell_type": "code",
   "execution_count": 9,
   "metadata": {},
   "outputs": [],
   "source": [
    "def compare(y1, y2):\n",
    "    score = 0\n",
    "    for i in range(y1.shape[0]):\n",
    "        if round(y1[i]) == y2[i]:\n",
    "            score += 1        \n",
    "    return score / y1.shape[0]"
   ]
  },
  {
   "cell_type": "code",
   "execution_count": 13,
   "metadata": {},
   "outputs": [
    {
     "name": "stdout",
     "output_type": "stream",
     "text": [
      "Qualities occurencies\n",
      "6    2836\n",
      "5    2138\n",
      "7    1079\n",
      "4     216\n",
      "8     193\n",
      "3      30\n",
      "9       5\n",
      "Name: quality, dtype: int64\n",
      "Scikit-learn accuracy score (training): 0.877\n",
      "Scikit-learn accuracy score (validation): 0.616\n",
      "Our accuracy score (training): 0.751\n",
      "Our accuracy score (validation): 0.579\n"
     ]
    }
   ],
   "source": [
    "data_white = pd.read_csv(\"data/winequality-white.csv\", delimiter=';')\n",
    "data_white.insert(0, 'color', 0)\n",
    "data_red = pd.read_csv(\"data/winequality-red.csv\", delimiter=';')\n",
    "data_red.insert(0, 'color', 1)\n",
    "\n",
    "X_all = data_white.append(data_red)\n",
    "y_all = X_all[\"quality\"]\n",
    "X_all.drop(labels=\"quality\", axis=1, inplace=True)\n",
    "\n",
    "print(\"Qualities occurencies\")\n",
    "print(y_all.value_counts())\n",
    "\n",
    "state = 2\n",
    "test_size = 0.3\n",
    "X_train, X_test, y_train, y_test = train_test_split(X_all, y_all, test_size=test_size, random_state=state)\n",
    "\n",
    "gb_clf = GradientBoostingClassifier(n_estimators=100, learning_rate=0.47, max_depth=3, random_state=0)\n",
    "gb_clf.fit(X_train, y_train)\n",
    "\n",
    "print(\"Scikit-learn accuracy score (training): {0:.3f}\".format(gb_clf.score(X_train, y_train)))\n",
    "print(\"Scikit-learn accuracy score (validation): {0:.3f}\".format(gb_clf.score(X_test, y_test)))\n",
    "\n",
    "gb = gboost.GradientBoostingClassifier(n_estimators=100, learning_rate=0.47, max_depth=3)\n",
    "gb.fit(np.array(X_train), np.array(y_train))\n",
    "yy_train = gb.predict(np.array(X_train))\n",
    "yy_test = gb.predict(np.array(X_test))\n",
    "\n",
    "print(\"Our accuracy score (training): {0:.3f}\".format(compare(yy_train, np.array(y_train))))\n",
    "print(\"Our accuracy score (validation): {0:.3f}\".format(compare(yy_test, np.array(y_test))))"
   ]
  },
  {
   "cell_type": "code",
   "execution_count": 7,
   "metadata": {},
   "outputs": [
    {
     "data": {
      "text/plain": [
       "array([5.35851358, 5.75556905, 5.81052265, ..., 5.45903262, 6.50708069,\n",
       "       6.00803387])"
      ]
     },
     "execution_count": 7,
     "metadata": {},
     "output_type": "execute_result"
    }
   ],
   "source": [
    "yy_train"
   ]
  },
  {
   "cell_type": "code",
   "execution_count": 8,
   "metadata": {},
   "outputs": [
    {
     "data": {
      "text/plain": [
       "4182    6\n",
       "1912    6\n",
       "1993    6\n",
       "2085    6\n",
       "3399    6\n",
       "       ..\n",
       "2514    7\n",
       "1545    6\n",
       "3606    5\n",
       "806     7\n",
       "2575    6\n",
       "Name: quality, Length: 4547, dtype: int64"
      ]
     },
     "execution_count": 8,
     "metadata": {},
     "output_type": "execute_result"
    }
   ],
   "source": [
    "y_train"
   ]
  },
  {
   "cell_type": "code",
   "execution_count": null,
   "metadata": {},
   "outputs": [],
   "source": [
    "# X_test"
   ]
  },
  {
   "cell_type": "code",
   "execution_count": null,
   "metadata": {},
   "outputs": [],
   "source": [
    "grad = gboost.GradientBoostingClassifier(n_estimators=30, verbosity=1)"
   ]
  },
  {
   "cell_type": "code",
   "execution_count": null,
   "metadata": {},
   "outputs": [],
   "source": [
    "X = np.array([[0., 0.], [1., 0.], [0.5, 0.5], [-0.25, 0.25], [2., 2.], [2.25, 1.75], [2.5, 2.]])\n",
    "y = np.array([1, 1, 1, 1, 2, 2, 2])\n",
    "grad.fit(X, y)"
   ]
  },
  {
   "cell_type": "code",
   "execution_count": null,
   "metadata": {},
   "outputs": [],
   "source": [
    "print(grad.predict(X))\n",
    "print(grad.predict(np.array([[0.75, 1.75]])))"
   ]
  },
  {
   "cell_type": "code",
   "execution_count": null,
   "metadata": {},
   "outputs": [],
   "source": []
  }
 ],
 "metadata": {
  "kernelspec": {
   "display_name": "Python 3",
   "language": "python",
   "name": "python3"
  },
  "language_info": {
   "codemirror_mode": {
    "name": "ipython",
    "version": 3
   },
   "file_extension": ".py",
   "mimetype": "text/x-python",
   "name": "python",
   "nbconvert_exporter": "python",
   "pygments_lexer": "ipython3",
   "version": "3.6.10"
  }
 },
 "nbformat": 4,
 "nbformat_minor": 4
}
